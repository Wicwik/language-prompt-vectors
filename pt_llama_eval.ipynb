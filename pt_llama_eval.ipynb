{
 "cells": [
  {
   "cell_type": "code",
   "execution_count": 1,
   "metadata": {},
   "outputs": [],
   "source": [
    "import torch\n",
    "\n",
    "from tqdm import tqdm\n",
    "\n",
    "\n",
    "from args import DataTrainingArguments, ArgumentParser, PromptVectorConfig\n",
    "from tasks import AutoTask\n",
    "\n",
    "from transformers import AutoTokenizer, AutoModelForCausalLM, pipeline\n",
    "from peft import get_peft_model\n",
    "from trl import SFTConfig, ModelConfig\n",
    "\n",
    "from utils import load_prompt"
   ]
  },
  {
   "cell_type": "code",
   "execution_count": 2,
   "metadata": {},
   "outputs": [],
   "source": [
    "def apply_test_template(examples, tokenizer):\n",
    "    return {\n",
    "        \"text\": tokenizer.apply_chat_template(\n",
    "            [examples], tokenize=False, add_generation_prompt=True\n",
    "        )\n",
    "    }\n"
   ]
  },
  {
   "cell_type": "code",
   "execution_count": 13,
   "metadata": {},
   "outputs": [],
   "source": [
    "def predict(test_dataset, model, tokenizer):\n",
    "    y_pred = []\n",
    "    pipe = pipeline(\n",
    "        task=\"text-generation\",\n",
    "        model=model,\n",
    "        tokenizer=tokenizer,\n",
    "        max_new_tokens=1024,\n",
    "        do_sample=False,\n",
    "        top_p=None,\n",
    "        use_cache=False,\n",
    "        temperature=None,\n",
    "        device=\"cuda\",\n",
    "    )\n",
    "\n",
    "    for x_test in tqdm(test_dataset[\"text\"]):\n",
    "\n",
    "        print(x_test)\n",
    "\n",
    "        result = pipe(x_test)\n",
    "        answer = (\n",
    "            result[0][\"generated_text\"]\n",
    "            .split(\"<|eot_id|><|start_header_id|>assistant<|end_header_id|>\")[-1]\n",
    "            .strip()\n",
    "        )\n",
    "\n",
    "        print(answer)\n",
    "\n",
    "        y_pred.append(answer)\n",
    "\n",
    "    return y_pred\n"
   ]
  },
  {
   "cell_type": "code",
   "execution_count": 4,
   "metadata": {},
   "outputs": [],
   "source": [
    "parser = ArgumentParser(\n",
    "    (SFTConfig, ModelConfig, DataTrainingArguments, PromptVectorConfig)\n",
    ")\n",
    "\n",
    "training_args, model_args, data_args, peft_config = parser.parse_toml_file(\n",
    "    \"configs/slovak_alpaca.toml\"\n",
    ")\n",
    "\n",
    "save_path = \"/home/jovyan/language-prompt-vectors/saves/prompt_tuning_10292024113646_slovak_alpaca_origin_0_meta-llama-3.1-8b-instruct/checkpoint-104010/adapter_model.safetensors\""
   ]
  },
  {
   "cell_type": "code",
   "execution_count": 5,
   "metadata": {},
   "outputs": [
    {
     "data": {
      "application/vnd.jupyter.widget-view+json": {
       "model_id": "d1760efa925a481084b0354d8f1666f1",
       "version_major": 2,
       "version_minor": 0
      },
      "text/plain": [
       "Loading checkpoint shards:   0%|          | 0/4 [00:00<?, ?it/s]"
      ]
     },
     "metadata": {},
     "output_type": "display_data"
    }
   ],
   "source": [
    "model = AutoModelForCausalLM.from_pretrained(\n",
    "    model_args.model_name_or_path,\n",
    "    torch_dtype=torch.bfloat16,\n",
    ").to(\"cuda\")\n",
    "model.active_adapters = [\n",
    "    \"default\"\n",
    "]  # fix because llama has some active adapters for some reason\n",
    "model = get_peft_model(model, peft_config=peft_config)\n",
    "\n",
    "tokenizer = AutoTokenizer.from_pretrained(\n",
    "    data_args.data_tokenizer_name_or_path,\n",
    "    trust_remote_code=True,\n",
    "    padding_side=\"right\",\n",
    ")\n",
    "tokenizer.add_special_tokens({\"pad_token\": \"<|reserved_special_token_0|>\"})\n",
    "model.config.pad_token_id = tokenizer.pad_token_id\n",
    "model.generation_config.pad_token_id = tokenizer.pad_token_id"
   ]
  },
  {
   "cell_type": "code",
   "execution_count": 6,
   "metadata": {},
   "outputs": [
    {
     "data": {
      "application/vnd.jupyter.widget-view+json": {
       "model_id": "c7e9f4ed244d4cfab9a14b8401615b50",
       "version_major": 2,
       "version_minor": 0
      },
      "text/plain": [
       "Running slovak_alpaca_preprocessor on dataset:   0%|          | 0/5201 [00:00<?, ? examples/s]"
      ]
     },
     "metadata": {},
     "output_type": "display_data"
    }
   ],
   "source": [
    "dataset_name = data_args.dataset_names[0]\n",
    "\n",
    "test_dataset = AutoTask.get(dataset_name).get(\n",
    "    split=\"test\",\n",
    "    task_type=peft_config.task_type,\n",
    "    add_prefix=False,\n",
    "    n_obs=data_args.max_test_samples,\n",
    "    split_validation_test=data_args.split_validation_test,\n",
    ")\n",
    "\n",
    "chat_test_dataset = test_dataset.map(apply_test_template, fn_kwargs={\"tokenizer\": tokenizer})"
   ]
  },
  {
   "cell_type": "code",
   "execution_count": 7,
   "metadata": {},
   "outputs": [
    {
     "name": "stderr",
     "output_type": "stream",
     "text": [
      "The model 'PeftModelForCausalLM' is not supported for text-generation. Supported models are ['BartForCausalLM', 'BertLMHeadModel', 'BertGenerationDecoder', 'BigBirdForCausalLM', 'BigBirdPegasusForCausalLM', 'BioGptForCausalLM', 'BlenderbotForCausalLM', 'BlenderbotSmallForCausalLM', 'BloomForCausalLM', 'CamembertForCausalLM', 'LlamaForCausalLM', 'CodeGenForCausalLM', 'CohereForCausalLM', 'CpmAntForCausalLM', 'CTRLLMHeadModel', 'Data2VecTextForCausalLM', 'DbrxForCausalLM', 'ElectraForCausalLM', 'ErnieForCausalLM', 'FalconForCausalLM', 'FuyuForCausalLM', 'GemmaForCausalLM', 'Gemma2ForCausalLM', 'GitForCausalLM', 'GPT2LMHeadModel', 'GPT2LMHeadModel', 'GPTBigCodeForCausalLM', 'GPTNeoForCausalLM', 'GPTNeoXForCausalLM', 'GPTNeoXJapaneseForCausalLM', 'GPTJForCausalLM', 'JambaForCausalLM', 'JetMoeForCausalLM', 'LlamaForCausalLM', 'MambaForCausalLM', 'Mamba2ForCausalLM', 'MarianForCausalLM', 'MBartForCausalLM', 'MegaForCausalLM', 'MegatronBertForCausalLM', 'MistralForCausalLM', 'MixtralForCausalLM', 'MptForCausalLM', 'MusicgenForCausalLM', 'MusicgenMelodyForCausalLM', 'MvpForCausalLM', 'NemotronForCausalLM', 'OlmoForCausalLM', 'OpenLlamaForCausalLM', 'OpenAIGPTLMHeadModel', 'OPTForCausalLM', 'PegasusForCausalLM', 'PersimmonForCausalLM', 'PhiForCausalLM', 'Phi3ForCausalLM', 'PLBartForCausalLM', 'ProphetNetForCausalLM', 'QDQBertLMHeadModel', 'Qwen2ForCausalLM', 'Qwen2MoeForCausalLM', 'RecurrentGemmaForCausalLM', 'ReformerModelWithLMHead', 'RemBertForCausalLM', 'RobertaForCausalLM', 'RobertaPreLayerNormForCausalLM', 'RoCBertForCausalLM', 'RoFormerForCausalLM', 'RwkvForCausalLM', 'Speech2Text2ForCausalLM', 'StableLmForCausalLM', 'Starcoder2ForCausalLM', 'TransfoXLLMHeadModel', 'TrOCRForCausalLM', 'WhisperForCausalLM', 'XGLMForCausalLM', 'XLMWithLMHeadModel', 'XLMProphetNetForCausalLM', 'XLMRobertaForCausalLM', 'XLMRobertaXLForCausalLM', 'XLNetLMHeadModel', 'XmodForCausalLM'].\n",
      "  0%|                                                                                                                                                                                                  | 0/2 [00:00<?, ?it/s]/home/jovyan/my-conda-envs/pa3/lib/python3.12/site-packages/peft/peft_model.py:1692: UserWarning: Position ids are not supported for parameter efficient tuning. Ignoring position ids.\n",
      "  warnings.warn(\"Position ids are not supported for parameter efficient tuning. Ignoring position ids.\")\n"
     ]
    },
    {
     "name": "stdout",
     "output_type": "stream",
     "text": [
      "<|begin_of_text|><|start_header_id|>system<|end_header_id|>\n",
      "\n",
      "Cutting Knowledge Date: December 2023\n",
      "Today Date: 26 Jul 2024\n",
      "\n",
      "<|eot_id|><|start_header_id|>user<|end_header_id|>\n",
      "\n",
      "Vytvorte tabuľku SQL s nasledujúcimi stĺpcami: _id, name, phone, email.<|eot_id|><|start_header_id|>assistant<|end_header_id|>\n",
      "\n",
      "\n"
     ]
    },
    {
     "name": "stderr",
     "output_type": "stream",
     "text": [
      " 50%|█████████████████████████████████████████████████████████████████████████████████████████████                                                                                             | 1/2 [00:07<00:07,  7.35s/it]"
     ]
    },
    {
     "name": "stdout",
     "output_type": "stream",
     "text": [
      "Aby vytvoriť tabuľku v SQL, použijeme nasledujúci príkaz:\n",
      "\n",
      "```sql\n",
      "CREATE TABLE users (\n",
      "  _id INT PRIMARY KEY,\n",
      "  name VARCHAR(255),\n",
      "  phone VARCHAR(20),\n",
      "  email VARCHAR(255)\n",
      ");\n",
      "```\n",
      "\n",
      "V tomto príklade:\n",
      "\n",
      "- `CREATE TABLE` je príkaz, ktorý vytvára novú tabuľku.\n",
      "- `users` je názov tabuľky.\n",
      "- `id` je prvý stĺpec, ktorý je definovaný ako `INT` (celečné číslo) a je označený ako `PRIMARY KEY`, čo znamená, že je to jedinečné identifikátor pre každú riadok v tabuľke.\n",
      "- `name`, `phone` a `email` sú ďalší stĺpce, ktoré sú definované ako `VARCHAR(255)`, čo znamená, že môžu obsahovať maximálne 255 znakových údajov.\n",
      "\n",
      "Poznámka: V mnohých databázových systémoch (napríklad MySQL) sa používa `id` ako názov pre prvý stĺpec, ale v iných systémoch (napríklad PostgreSQL) sa používa `id` alebo `id SERIAL` pre generovanie automaticky generovaných ID.\n",
      "<|begin_of_text|><|start_header_id|>system<|end_header_id|>\n",
      "\n",
      "Cutting Knowledge Date: December 2023\n",
      "Today Date: 26 Jul 2024\n",
      "\n",
      "<|eot_id|><|start_header_id|>user<|end_header_id|>\n",
      "\n",
      "Vysvetlite rozdiel medzi hustotou obyvateľstva a rastom obyvateľstva.<|eot_id|><|start_header_id|>assistant<|end_header_id|>\n",
      "\n",
      "\n"
     ]
    },
    {
     "name": "stderr",
     "output_type": "stream",
     "text": [
      "100%|██████████████████████████████████████████████████████████████████████████████████████████████████████████████████████████████████████████████████████████████████████████████████████████| 2/2 [00:19<00:00,  9.73s/it]"
     ]
    },
    {
     "name": "stdout",
     "output_type": "stream",
     "text": [
      "Hustota obyvateľstva a rast obyvateľstva sú dve rozličné koncepty, ktoré sa vzťahujú k demografickým údajom o populácii.\n",
      "\n",
      "**Hustota obyvateľstva** je meradlo, ktoré udáva počet obyvateľov na jednotku plochy. Je to obvykle vyjadrené v jednotkách obyvateľov na km² (obyv./km²). Hustota obyvateľstva sa používa na popis charakteru urbanizácie a rozlohy oblasti. Vyššia hustota obyvateľstva indikuje, že v danej oblasti je veľa ľudí na malom priestore, čo môže byť typické pre mestá alebo aglomerácie.\n",
      "\n",
      "**Rast obyvateľstva** je meradlo, ktoré udáva zmeny v počte obyvateľov v danej oblasti v čase. Rast obyvateľstva môže byť pozitívny (t.j. rast) alebo negatívny (t.j. pokles). Rast obyvateľstva sa používa na popis demografických trendov a môže byť ovplyvnený rôznymi faktormi, ako napríklad narodeninami, úmrtnosťou, migráciou a demografickými zmenami.\n",
      "\n",
      "Rozdiel medzi hustotou obyvateľstva a rastom obyvateľstva je nasledovný:\n",
      "\n",
      "- Hustota obyvateľstva sa týka počtu obyvateľov na jednotku plochy, zatiaľ čo rast obyvateľstva sa týka zmeny v počte obyvateľov v čase.\n",
      "- Hustota obyvateľstva môže byť vysoká aj v oblastiach s nízkym rastom obyvateľstva, ak je tam veľa ľudí na malom priestore.\n",
      "- Hustota obyvateľstva môže byť nízka aj v oblastiach s vysokým rastom obyvateľstva, ak je tam málo ľudí na veľkom priestore.\n",
      "\n",
      "V praxi sa hustota obyvateľstva a rast obyvateľstva často používajú spolu na analýzu demografických trendov a na plánovanie urbanistickej a sociálnej politiky.\n"
     ]
    },
    {
     "name": "stderr",
     "output_type": "stream",
     "text": [
      "\n"
     ]
    }
   ],
   "source": [
    "results = predict(chat_test_dataset[:2], model, tokenizer, AutoTask.get(dataset_name).labels_list)"
   ]
  },
  {
   "cell_type": "code",
   "execution_count": 8,
   "metadata": {},
   "outputs": [
    {
     "name": "stdout",
     "output_type": "stream",
     "text": [
      " Tu je príklad príkazu SQL, ktorý možno použiť na vytvorenie tabuľky so stĺpcami _id, name, phone a email: ``` CREATE TABLE contacts ( _id INTEGER PRIMARY KEY AUTOINCREMENT, name TEXT NOT NULL, phone TEXT NOT NULL , email TEXT NOT NULL ); ```\n",
      "Hustota obyvateľstva a rast populácie sú dva odlišné demografické pojmy. Hustota obyvateľstva sa vzťahuje na počet ľudí žijúcich v určitej geografickej oblasti, ako je mesto, štát alebo krajina, v pomere k jej veľkosti. Bežne sa meria ako počet ľudí na jednotku plochy, napríklad na míľu štvorcovú alebo kilometer štvorcový. Toto meranie poskytuje predstavu o tom, ako je oblasť preplnená a koľko miesta je k dispozícii pre každú osobu v tejto oblasti. Na druhej strane, rast populácie sa týka zmeny počtu ľudí žijúcich v určitej oblasti v priebehu času. Môže sa merať ako absolútny nárast alebo pokles alebo ako percentuálna zmena. Toto meranie je ovplyvnené rôznymi faktormi, akými sú miera pôrodnosti a úmrtnosti, migrácia a zmeny vekovej štruktúry obyvateľstva. Populačný rast je dôležitým ukazovateľom zdravia spoločnosti a jej schopnosti udržať sa. Stručne povedané, zatiaľ čo hustota obyvateľstva sa zameriava na to, koľko ľudí v súčasnosti žije v konkrétnej oblasti, rast populácie sa zameriava na to, ako sa populácia oblasti mení v priebehu času. Oba koncepty sú dôležité pre pochopenie a riadenie populačnej dynamiky.\n"
     ]
    }
   ],
   "source": [
    "print(test_dataset[\"target\"][0])\n",
    "print(test_dataset[\"target\"][1])"
   ]
  },
  {
   "cell_type": "code",
   "execution_count": 10,
   "metadata": {},
   "outputs": [],
   "source": [
    "model.prompt_encoder.default.embedding.weight = torch.nn.Parameter(\n",
    "    load_prompt(save_path).to(\"cuda\")\n",
    ")"
   ]
  },
  {
   "cell_type": "code",
   "execution_count": 14,
   "metadata": {},
   "outputs": [
    {
     "name": "stderr",
     "output_type": "stream",
     "text": [
      "The model 'PeftModelForCausalLM' is not supported for text-generation. Supported models are ['BartForCausalLM', 'BertLMHeadModel', 'BertGenerationDecoder', 'BigBirdForCausalLM', 'BigBirdPegasusForCausalLM', 'BioGptForCausalLM', 'BlenderbotForCausalLM', 'BlenderbotSmallForCausalLM', 'BloomForCausalLM', 'CamembertForCausalLM', 'LlamaForCausalLM', 'CodeGenForCausalLM', 'CohereForCausalLM', 'CpmAntForCausalLM', 'CTRLLMHeadModel', 'Data2VecTextForCausalLM', 'DbrxForCausalLM', 'ElectraForCausalLM', 'ErnieForCausalLM', 'FalconForCausalLM', 'FuyuForCausalLM', 'GemmaForCausalLM', 'Gemma2ForCausalLM', 'GitForCausalLM', 'GPT2LMHeadModel', 'GPT2LMHeadModel', 'GPTBigCodeForCausalLM', 'GPTNeoForCausalLM', 'GPTNeoXForCausalLM', 'GPTNeoXJapaneseForCausalLM', 'GPTJForCausalLM', 'JambaForCausalLM', 'JetMoeForCausalLM', 'LlamaForCausalLM', 'MambaForCausalLM', 'Mamba2ForCausalLM', 'MarianForCausalLM', 'MBartForCausalLM', 'MegaForCausalLM', 'MegatronBertForCausalLM', 'MistralForCausalLM', 'MixtralForCausalLM', 'MptForCausalLM', 'MusicgenForCausalLM', 'MusicgenMelodyForCausalLM', 'MvpForCausalLM', 'NemotronForCausalLM', 'OlmoForCausalLM', 'OpenLlamaForCausalLM', 'OpenAIGPTLMHeadModel', 'OPTForCausalLM', 'PegasusForCausalLM', 'PersimmonForCausalLM', 'PhiForCausalLM', 'Phi3ForCausalLM', 'PLBartForCausalLM', 'ProphetNetForCausalLM', 'QDQBertLMHeadModel', 'Qwen2ForCausalLM', 'Qwen2MoeForCausalLM', 'RecurrentGemmaForCausalLM', 'ReformerModelWithLMHead', 'RemBertForCausalLM', 'RobertaForCausalLM', 'RobertaPreLayerNormForCausalLM', 'RoCBertForCausalLM', 'RoFormerForCausalLM', 'RwkvForCausalLM', 'Speech2Text2ForCausalLM', 'StableLmForCausalLM', 'Starcoder2ForCausalLM', 'TransfoXLLMHeadModel', 'TrOCRForCausalLM', 'WhisperForCausalLM', 'XGLMForCausalLM', 'XLMWithLMHeadModel', 'XLMProphetNetForCausalLM', 'XLMRobertaForCausalLM', 'XLMRobertaXLForCausalLM', 'XLNetLMHeadModel', 'XmodForCausalLM'].\n",
      "  0%|                                                                                                                                                                                                  | 0/2 [00:00<?, ?it/s]/home/jovyan/my-conda-envs/pa3/lib/python3.12/site-packages/peft/peft_model.py:1692: UserWarning: Position ids are not supported for parameter efficient tuning. Ignoring position ids.\n",
      "  warnings.warn(\"Position ids are not supported for parameter efficient tuning. Ignoring position ids.\")\n"
     ]
    },
    {
     "name": "stdout",
     "output_type": "stream",
     "text": [
      "<|begin_of_text|><|start_header_id|>system<|end_header_id|>\n",
      "\n",
      "Cutting Knowledge Date: December 2023\n",
      "Today Date: 26 Jul 2024\n",
      "\n",
      "<|eot_id|><|start_header_id|>user<|end_header_id|>\n",
      "\n",
      "Vytvorte tabuľku SQL s nasledujúcimi stĺpcami: _id, name, phone, email.<|eot_id|><|start_header_id|>assistant<|end_header_id|>\n",
      "\n",
      "\n"
     ]
    },
    {
     "name": "stderr",
     "output_type": "stream",
     "text": [
      " 50%|█████████████████████████████████████████████████████████████████████████████████████████████                                                                                             | 1/2 [00:01<00:01,  1.93s/it]"
     ]
    },
    {
     "name": "stdout",
     "output_type": "stream",
     "text": [
      "Tu je príklad tabuľky SQL s uvedenými stĺpcami: ``` SQL CREATE TABLE contacts ( id INT PRIMARY KEY, name VARCHAR(255) NOT NULL, phone VARCHAR(20) NOT NULL, email VARCHAR(255) NOT NULL); ```\n",
      "<|begin_of_text|><|start_header_id|>system<|end_header_id|>\n",
      "\n",
      "Cutting Knowledge Date: December 2023\n",
      "Today Date: 26 Jul 2024\n",
      "\n",
      "<|eot_id|><|start_header_id|>user<|end_header_id|>\n",
      "\n",
      "Vysvetlite rozdiel medzi hustotou obyvateľstva a rastom obyvateľstva.<|eot_id|><|start_header_id|>assistant<|end_header_id|>\n",
      "\n",
      "\n"
     ]
    },
    {
     "name": "stderr",
     "output_type": "stream",
     "text": [
      "100%|██████████████████████████████████████████████████████████████████████████████████████████████████████████████████████████████████████████████████████████████████████████████████████████| 2/2 [00:29<00:00, 14.80s/it]"
     ]
    },
    {
     "name": "stdout",
     "output_type": "stream",
     "text": [
      "Hustota obyvateľstva a rast obyvateľstva sú dva odlišné pojmy, ktoré sa vzťahujú na demografické údaje o populácii. Hustota obyvateľstva sa meria ako počet obyvateľov na jednotku plochy, zvyčajne vyjadrená ako počet obyvateľov na kilometr štvorcový (km²). Je to miera, ktorá ukazuje, ako husto sú obyvatelia usadení v určitej oblasti. Napríklad krajina s hustotou obyvateľstva 100 obyvateľov na km² má väčšiu populáciu, ako krajina s hustotou obyvateľstva 10 obyvateľov na km², alebo akékoľvek dve krajiny s rovnakou populáciou, krajina s vyššou hustotou obyvateľstva bude mať menšiu plochu. Hustota obyvateľstva sa môže meniť v čase v dôsledku rastu alebo poklesu populácie a zmeny veľkosti územia. Rast obyvateľstva sa meria ako zmena počtu obyvateľov v určitej oblasti v dôsledku narodenia, úmrtia a migrácie. Je to miera, ktorá ukazuje, ako sa populácia zvyšuje alebo znižuje v čase. Napríklad krajina s rastom obyvateľstva 2 % za rok má v priebehu roka 2 % väčšiu populáciu, ako v priebehu roka predtým. Rast obyvateľstva sa môže mať za predpokladu, že sa menia demografické faktory, ako je natalita (porodnosť), mortalita (úmrtnosť) a migrácia (priemerný počet ľudí, ktorí do krajiny prišli alebo z krajiny odchádzajú). Stručne povedané, hustota obyvateľstva sa meria ako počet obyvateľov na jednotku plochy, zatiaľ čo rast obyvateľstva sa meria ako zmena počtu obyvateľov v čase v dôsledku narodenia, úmrtia a migrácie.\n"
     ]
    },
    {
     "name": "stderr",
     "output_type": "stream",
     "text": [
      "\n"
     ]
    }
   ],
   "source": [
    "results = predict(chat_test_dataset[:2], model, tokenizer, AutoTask.get(dataset_name).labels_list)"
   ]
  },
  {
   "cell_type": "code",
   "execution_count": null,
   "metadata": {},
   "outputs": [],
   "source": []
  }
 ],
 "metadata": {
  "kernelspec": {
   "display_name": "pa3",
   "language": "python",
   "name": "python3"
  },
  "language_info": {
   "codemirror_mode": {
    "name": "ipython",
    "version": 3
   },
   "file_extension": ".py",
   "mimetype": "text/x-python",
   "name": "python",
   "nbconvert_exporter": "python",
   "pygments_lexer": "ipython3",
   "version": "3.12.5"
  }
 },
 "nbformat": 4,
 "nbformat_minor": 2
}
